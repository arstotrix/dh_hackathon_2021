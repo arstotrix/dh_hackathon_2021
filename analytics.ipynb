{
  "nbformat": 4,
  "nbformat_minor": 0,
  "metadata": {
    "colab": {
      "name": "analytics",
      "provenance": [],
      "authorship_tag": "ABX9TyMDqBRrWsGHx3ixPImT/KxY",
      "include_colab_link": true
    },
    "kernelspec": {
      "name": "python3",
      "display_name": "Python 3"
    },
    "language_info": {
      "name": "python"
    }
  },
  "cells": [
    {
      "cell_type": "markdown",
      "metadata": {
        "id": "view-in-github",
        "colab_type": "text"
      },
      "source": [
        "<a href=\"https://colab.research.google.com/github/arstotrix/dh_hackathon_2021/blob/main/analytics.ipynb\" target=\"_parent\"><img src=\"https://colab.research.google.com/assets/colab-badge.svg\" alt=\"Open In Colab\"/></a>"
      ]
    },
    {
      "cell_type": "code",
      "metadata": {
        "id": "jh38vgLnod6i"
      },
      "source": [
        "import pandas as pd\n",
        "import numpy as np\n",
        "import matplotlib as mpl\n",
        "import matplotlib.pyplot as plt"
      ],
      "execution_count": 3,
      "outputs": []
    },
    {
      "cell_type": "code",
      "metadata": {
        "id": "KCWgcoCl4Ta3"
      },
      "source": [
        "def getdf(link):\n",
        "#link = 'https://raw.githubusercontent.com/arstotrix/dh_hackathon_2021/main/mems_metadata_nastya_yescommas.csv'\n",
        "  data = pd.read_csv(link, sep = ';')\n",
        "  data = data[['ID',\t'imgviews',\t'imgvotes',\t'comments',\t'memedate',\t'years_ago',\t'imgname',\t'imgtext',\t'tags', 'tagslist2']]"
      ],
      "execution_count": 21,
      "outputs": []
    },
    {
      "cell_type": "code",
      "metadata": {
        "id": "lJi-JqxsC8Ud"
      },
      "source": [
        "df_light = "
      ],
      "execution_count": 11,
      "outputs": []
    },
    {
      "cell_type": "code",
      "metadata": {
        "colab": {
          "base_uri": "https://localhost:8080/",
          "height": 289
        },
        "id": "9w_kjOdj3qTZ",
        "outputId": "70ae5a77-4069-46d0-b55b-1847e29ff63e"
      },
      "source": [
        "#data['tags'] = data_tags['tags']\n",
        "data.head()"
      ],
      "execution_count": 15,
      "outputs": [
        {
          "output_type": "execute_result",
          "data": {
            "text/html": [
              "<div>\n",
              "<style scoped>\n",
              "    .dataframe tbody tr th:only-of-type {\n",
              "        vertical-align: middle;\n",
              "    }\n",
              "\n",
              "    .dataframe tbody tr th {\n",
              "        vertical-align: top;\n",
              "    }\n",
              "\n",
              "    .dataframe thead th {\n",
              "        text-align: right;\n",
              "    }\n",
              "</style>\n",
              "<table border=\"1\" class=\"dataframe\">\n",
              "  <thead>\n",
              "    <tr style=\"text-align: right;\">\n",
              "      <th></th>\n",
              "      <th>ID</th>\n",
              "      <th>imgviews</th>\n",
              "      <th>imgvotes</th>\n",
              "      <th>comments</th>\n",
              "      <th>memedate</th>\n",
              "      <th>years_ago</th>\n",
              "      <th>imgname</th>\n",
              "      <th>imgtext</th>\n",
              "      <th>tags</th>\n",
              "    </tr>\n",
              "  </thead>\n",
              "  <tbody>\n",
              "    <tr>\n",
              "      <th>0</th>\n",
              "      <td>3hvw6r</td>\n",
              "      <td>49005</td>\n",
              "      <td>429</td>\n",
              "      <td>33</td>\n",
              "      <td>12 months ago</td>\n",
              "      <td>0</td>\n",
              "      <td>Black Humour Weekend Nov 29-Dec 1 Harold's pro...</td>\n",
              "      <td>MY NEPHEW TOLD ME THAT WHEN HE GROWS UP HE W...</td>\n",
              "      <td>['hide the pain harold']</td>\n",
              "    </tr>\n",
              "    <tr>\n",
              "      <th>1</th>\n",
              "      <td>3hz5c8</td>\n",
              "      <td>460</td>\n",
              "      <td>9</td>\n",
              "      <td>1</td>\n",
              "      <td>12 months ago</td>\n",
              "      <td>0</td>\n",
              "      <td>Gru's Plan Meme</td>\n",
              "      <td>MAKE A REALLY COOL MEME. IT GETS THOUSANDS O...</td>\n",
              "      <td>['one does not simply']</td>\n",
              "    </tr>\n",
              "    <tr>\n",
              "      <th>2</th>\n",
              "      <td>3i0436</td>\n",
              "      <td>8009</td>\n",
              "      <td>134</td>\n",
              "      <td>9</td>\n",
              "      <td>12 months ago</td>\n",
              "      <td>0</td>\n",
              "      <td>Hide the Pain Harold Meme</td>\n",
              "      <td>I TOLD MY DAD I HAD THE BODY OF A GREEK GOD....</td>\n",
              "      <td>['batman slapping robin']</td>\n",
              "    </tr>\n",
              "    <tr>\n",
              "      <th>3</th>\n",
              "      <td>3i0koz</td>\n",
              "      <td>22882</td>\n",
              "      <td>269</td>\n",
              "      <td>15</td>\n",
              "      <td>12 months ago</td>\n",
              "      <td>0</td>\n",
              "      <td>Expanding Brain Meme</td>\n",
              "      <td>HEY SORRY I'M LATE. I HAVE A DOCTORS NOTE. I...</td>\n",
              "      <td>['the rock driving']</td>\n",
              "    </tr>\n",
              "    <tr>\n",
              "      <th>4</th>\n",
              "      <td>3i1148</td>\n",
              "      <td>5455</td>\n",
              "      <td>53</td>\n",
              "      <td>3</td>\n",
              "      <td>12 months ago</td>\n",
              "      <td>0</td>\n",
              "      <td>Best times of the year?</td>\n",
              "      <td>What are the best times of the year? Christm...</td>\n",
              "      <td>['one does not simply']</td>\n",
              "    </tr>\n",
              "  </tbody>\n",
              "</table>\n",
              "</div>"
            ],
            "text/plain": [
              "       ID  ...                       tags\n",
              "0  3hvw6r  ...   ['hide the pain harold']\n",
              "1  3hz5c8  ...    ['one does not simply']\n",
              "2  3i0436  ...  ['batman slapping robin']\n",
              "3  3i0koz  ...       ['the rock driving']\n",
              "4  3i1148  ...    ['one does not simply']\n",
              "\n",
              "[5 rows x 9 columns]"
            ]
          },
          "metadata": {},
          "execution_count": 15
        }
      ]
    },
    {
      "cell_type": "code",
      "metadata": {
        "colab": {
          "base_uri": "https://localhost:8080/"
        },
        "id": "Yl2vIZXL-IkM",
        "outputId": "c45ce33a-acad-4399-a370-bf82bfe7a690"
      },
      "source": [
        "data.groupby(data['memedate'])['ID'].count()\n",
        "#merge last year data\n"
      ],
      "execution_count": 18,
      "outputs": [
        {
          "output_type": "execute_result",
          "data": {
            "text/plain": [
              "memedate\n",
              "1 month ago      281\n",
              "1 week ago       299\n",
              "1 year ago       313\n",
              "10 months ago    213\n",
              "11 months ago    180\n",
              "12 months ago    184\n",
              "2 months ago     446\n",
              "2 weeks ago      799\n",
              "2 years ago      250\n",
              "3 months ago     324\n",
              "3 weeks ago      196\n",
              "3 years ago      211\n",
              "4 months ago     339\n",
              "4 weeks ago      110\n",
              "4 years ago      177\n",
              "5 months ago     297\n",
              "5 years ago      119\n",
              "6 months ago     339\n",
              "6 years ago      115\n",
              "7 months ago     304\n",
              "7 years ago       63\n",
              "8 months ago     280\n",
              "8 years ago       15\n",
              "9 months ago     257\n",
              "9 years ago        1\n",
              "Name: ID, dtype: int64"
            ]
          },
          "metadata": {},
          "execution_count": 18
        }
      ]
    },
    {
      "cell_type": "code",
      "metadata": {
        "id": "UEHn7oJUJA73"
      },
      "source": [
        "#"
      ],
      "execution_count": null,
      "outputs": []
    }
  ]
}