{
  "nbformat": 4,
  "nbformat_minor": 0,
  "metadata": {
    "colab": {
      "name": "analytics",
      "provenance": [],
      "mount_file_id": "1UQePVzkNvJcG_E2uwi7dK80I9AoMsdOO",
      "authorship_tag": "ABX9TyOjmupZ+LaklWyOnkklZ9s5",
      "include_colab_link": true
    },
    "kernelspec": {
      "name": "python3",
      "display_name": "Python 3"
    },
    "language_info": {
      "name": "python"
    }
  },
  "cells": [
    {
      "cell_type": "markdown",
      "metadata": {
        "id": "view-in-github",
        "colab_type": "text"
      },
      "source": [
        "<a href=\"https://colab.research.google.com/github/arstotrix/dh_hackathon_2021/blob/main/analytics.ipynb\" target=\"_parent\"><img src=\"https://colab.research.google.com/assets/colab-badge.svg\" alt=\"Open In Colab\"/></a>"
      ]
    },
    {
      "cell_type": "code",
      "metadata": {
        "id": "jh38vgLnod6i"
      },
      "source": [
        "import pandas as pd\n",
        "import numpy as np\n",
        "import matplotlib as mpl\n",
        "import matplotlib.pyplot as plt\n",
        "import re"
      ],
      "execution_count": 1,
      "outputs": []
    },
    {
      "cell_type": "code",
      "metadata": {
        "colab": {
          "base_uri": "https://localhost:8080/"
        },
        "id": "cOZj1Jxai7vv",
        "outputId": "7f4583f1-66f9-474a-deaf-d1e55a20a95b"
      },
      "source": [
        "from google.colab import drive\n",
        "drive.mount('/content/drive')"
      ],
      "execution_count": 2,
      "outputs": [
        {
          "output_type": "stream",
          "name": "stdout",
          "text": [
            "Drive already mounted at /content/drive; to attempt to forcibly remount, call drive.mount(\"/content/drive\", force_remount=True).\n"
          ]
        }
      ]
    },
    {
      "cell_type": "code",
      "metadata": {
        "colab": {
          "base_uri": "https://localhost:8080/"
        },
        "id": "GvurVGYbTkol",
        "outputId": "871304d2-2066-492c-e791-e526e56307ad"
      },
      "source": [
        "#ЩАС БУДЕТ НЛП\n",
        "!pip install pymorphy2\n",
        "import pymorphy2\n",
        "import nltk\n",
        "nltk.download('stopwords')\n",
        "from nltk.corpus import stopwords\n",
        "stop_words = stopwords.words(\"english\")\n",
        "stop_words.extend(['meme', 'get', 'people', 'memes', 'image', 'tagged', 'make', 'dont', 'imgflip', 'im'])\n",
        "morph = pymorphy2.MorphAnalyzer()"
      ],
      "execution_count": 181,
      "outputs": [
        {
          "output_type": "stream",
          "name": "stdout",
          "text": [
            "Requirement already satisfied: pymorphy2 in /usr/local/lib/python3.7/dist-packages (0.9.1)\n",
            "Requirement already satisfied: dawg-python>=0.7.1 in /usr/local/lib/python3.7/dist-packages (from pymorphy2) (0.7.2)\n",
            "Requirement already satisfied: docopt>=0.6 in /usr/local/lib/python3.7/dist-packages (from pymorphy2) (0.6.2)\n",
            "Requirement already satisfied: pymorphy2-dicts-ru<3.0,>=2.4 in /usr/local/lib/python3.7/dist-packages (from pymorphy2) (2.4.417127.4579844)\n",
            "[nltk_data] Downloading package stopwords to /root/nltk_data...\n",
            "[nltk_data]   Package stopwords is already up-to-date!\n"
          ]
        }
      ]
    },
    {
      "cell_type": "code",
      "metadata": {
        "id": "KCWgcoCl4Ta3"
      },
      "source": [
        "def getdf(link):\n",
        "#link = 'https://raw.githubusercontent.com/arstotrix/dh_hackathon_2021/main/mems_metadata_nastya_yescommas.csv'\n",
        "  data = pd.read_csv(link, sep = ';')\n",
        "  return data"
      ],
      "execution_count": 3,
      "outputs": []
    },
    {
      "cell_type": "code",
      "metadata": {
        "id": "qWu_mdi7WMEo"
      },
      "source": [
        "#для задачи фильтрации\n",
        "def year_filter(unit):\n",
        "  if 'month' in unit:\n",
        "    numeric_filter = filter(str.isdigit, unit)\n",
        "    unit = \"\".join(numeric_filter)\n",
        "    unit = int(unit)\n",
        "  else:\n",
        "    unit = 1000\n",
        "  return unit"
      ],
      "execution_count": 4,
      "outputs": []
    },
    {
      "cell_type": "code",
      "metadata": {
        "id": "lJi-JqxsC8Ud"
      },
      "source": [
        "df_light = getdf(\"https://raw.githubusercontent.com/arstotrix/dh_hackathon_2021/main/mems%20metadata%20light.csv\")\n",
        "df_hard = getdf(\"https://raw.githubusercontent.com/arstotrix/dh_hackathon_2021/main/mems%20metadata%20hard.csv\")\n",
        "df_light = df_light[['ID',\t'imgviews',\t'imgvotes',\t'comments',\t'memedate',\t'imgname',\t'imgtext', 'tagslist2']]\n",
        "df_hard = df_hard[['ID',\t'imgviews',\t'imgvotes',\t'comments',\t'memedate',\t'imgname',\t'imgtext',\t'tagslist2']]"
      ],
      "execution_count": 5,
      "outputs": []
    },
    {
      "cell_type": "code",
      "metadata": {
        "id": "NS-dZnC_U7xi",
        "colab": {
          "base_uri": "https://localhost:8080/"
        },
        "outputId": "3723f778-520e-4eb9-bf10-fa247c42caee"
      },
      "source": [
        "df_light['withinayear'] = df_light['memedate'].apply(year_filter)\n",
        "df_hard['withinayear'] = df_hard['memedate'].apply(year_filter)"
      ],
      "execution_count": 6,
      "outputs": [
        {
          "output_type": "stream",
          "name": "stderr",
          "text": [
            "/usr/local/lib/python3.7/dist-packages/ipykernel_launcher.py:1: SettingWithCopyWarning: \n",
            "A value is trying to be set on a copy of a slice from a DataFrame.\n",
            "Try using .loc[row_indexer,col_indexer] = value instead\n",
            "\n",
            "See the caveats in the documentation: https://pandas.pydata.org/pandas-docs/stable/user_guide/indexing.html#returning-a-view-versus-a-copy\n",
            "  \"\"\"Entry point for launching an IPython kernel.\n"
          ]
        }
      ]
    },
    {
      "cell_type": "code",
      "metadata": {
        "id": "x9YhN22MYQ-R"
      },
      "source": [
        "lightyear = df_light[df_light['withinayear']<100].groupby(df_light['withinayear'])[\"ID\"].count().sort_index(ascending=False)\n",
        "hardyear = df_hard[df_hard['withinayear']<100].groupby(df_hard['withinayear'])[\"ID\"].count().sort_index(ascending=False)\n",
        "#.sort_index(ascending=True)"
      ],
      "execution_count": 7,
      "outputs": []
    },
    {
      "cell_type": "code",
      "metadata": {
        "colab": {
          "base_uri": "https://localhost:8080/",
          "height": 281
        },
        "id": "3-a5Sf2qaNOm",
        "outputId": "d620fc29-518a-45b3-cb36-815614830cab"
      },
      "source": [
        "X = hardyear.index\n",
        "Y = hardyear.values\n",
        "fig, ax = plt.subplots()\n",
        "ax.bar(X,Y,color=\"#008080\")\n",
        "#plt.legend('')\n",
        "plt.title('Количество мемов, запощенных n месяцев назад')\n",
        "fig.show()\n",
        "plt.savefig('teal_data')"
      ],
      "execution_count": 8,
      "outputs": [
        {
          "output_type": "display_data",
          "data": {
            "image/png": "[encoded data removed]",
            "text/plain": [
              "<Figure size 432x288 with 1 Axes>"
            ]
          },
          "metadata": {
            "needs_background": "light"
          }
        }
      ]
    },
    {
      "cell_type": "code",
      "metadata": {
        "colab": {
          "base_uri": "https://localhost:8080/",
          "height": 281
        },
        "id": "K-IUy9zEa0uw",
        "outputId": "897c12ae-dc22-4e3b-b8dc-925bade1f43d"
      },
      "source": [
        "X = lightyear.index\n",
        "Y = lightyear.values\n",
        "fig, ax = plt.subplots()\n",
        "ax.bar(X,Y,color=\"#88aacc\")\n",
        "#plt.legend('')\n",
        "plt.title('Количество мемов, запощенных n месяцев назад')\n",
        "fig.show()\n",
        "plt.savefig('blue_data')"
      ],
      "execution_count": 106,
      "outputs": [
        {
          "output_type": "display_data",
          "data": {
            "image/png": "[encoded data removed]",
            "text/plain": [
              "<Figure size 432x288 with 1 Axes>"
            ]
          },
          "metadata": {
            "needs_background": "light"
          }
        }
      ]
    },
    {
      "cell_type": "code",
      "metadata": {
        "id": "9w_kjOdj3qTZ"
      },
      "source": [
        "def freqtag(tags):\n",
        "  freq = {}\n",
        "  for tag in tags:\n",
        "    tag = re.sub('[^a-zA-Z0-9, ]', '', tag)\n",
        "    if len(tag) > 0:\n",
        "      tag = tag.split(', ')\n",
        "      for t in tag:\n",
        "        #print(t)\n",
        "        if t in freq:\n",
        "          freq[t] += 1\n",
        "        else:\n",
        "          freq[t] = 1\n",
        "  freq\n",
        "  freqdata = pd.DataFrame.from_dict(freq, orient='index')\n",
        "  return freqdata"
      ],
      "execution_count": 79,
      "outputs": []
    },
    {
      "cell_type": "code",
      "metadata": {
        "id": "2PyOjcLV9pn-"
      },
      "source": [
        "def cleaner(tag):\n",
        "  tag = re.sub('[^a-zA-Z0-9, ]', '', tag)\n",
        "  if len(tag) > 0:\n",
        "    tag = tag.split(', ')\n",
        "  return tag"
      ],
      "execution_count": 37,
      "outputs": []
    },
    {
      "cell_type": "code",
      "metadata": {
        "id": "awHWnaUY7VYf"
      },
      "source": [
        "def counter(i,tag):\n",
        "  j = 0\n",
        "  if i in tag:\n",
        "    j = 1\n",
        "  return j"
      ],
      "execution_count": 52,
      "outputs": []
    },
    {
      "cell_type": "code",
      "metadata": {
        "id": "STSuTEFBVyje"
      },
      "source": [
        "df_lastyear = df_light[['ID',\t'withinayear',\t'imgname',\t'imgtext',\t'tagslist2']]\n",
        "df_lastyear  = df_lastyear[df_lastyear['withinayear'] < 100]"
      ],
      "execution_count": null,
      "outputs": []
    },
    {
      "cell_type": "code",
      "metadata": {
        "colab": {
          "base_uri": "https://localhost:8080/"
        },
        "id": "cB6MlE9y1WUO",
        "outputId": "747cc564-f1fc-458d-f338-190eaa1768b4"
      },
      "source": [
        "tags = df_light['tagslist2'].dropna().values\n",
        "freqdata = freqtag(tags)\n",
        "top_ten = freqdata[0].sort_values(ascending=False)[:10]\n",
        "top_ten"
      ],
      "execution_count": 118,
      "outputs": [
        {
          "output_type": "execute_result",
          "data": {
            "text/plain": [
              "boardroom meeting suggestion    247\n",
              "change my mind                  235\n",
              "the rock driving                217\n",
              "batman slapping robin           211\n",
              "two buttons                     206\n",
              "drake hotline bling             199\n",
              "hide the pain harold            189\n",
              "expanding brain                 189\n",
              "one does not simply             187\n",
              "surprised pikachu               186\n",
              "Name: 0, dtype: int64"
            ]
          },
          "metadata": {},
          "execution_count": 118
        }
      ]
    },
    {
      "cell_type": "code",
      "metadata": {
        "id": "Yl2vIZXL-IkM",
        "colab": {
          "base_uri": "https://localhost:8080/"
        },
        "outputId": "8ca77bd2-e457-4524-f3fb-02fc28b1abbf"
      },
      "source": [
        "tags_year = df_lastyear['tagslist2'].dropna().values\n",
        "freqdata = freqtag(tags_year)\n",
        "top_ten_2020 = freqdata[0].sort_values(ascending=False)[:10]\n",
        "top_ten_2020"
      ],
      "execution_count": 92,
      "outputs": [
        {
          "output_type": "execute_result",
          "data": {
            "text/plain": [
              "change my mind                  152\n",
              "drake hotline bling             135\n",
              "boardroom meeting suggestion    122\n",
              "expanding brain                 116\n",
              "two buttons                     115\n",
              "surprised pikachu               113\n",
              "distracted boyfriend            112\n",
              "woman yelling at cat            108\n",
              "left exit 12 off ramp           102\n",
              "roll safe think about it        101\n",
              "Name: 0, dtype: int64"
            ]
          },
          "metadata": {},
          "execution_count": 92
        }
      ]
    },
    {
      "cell_type": "code",
      "metadata": {
        "colab": {
          "base_uri": "https://localhost:8080/"
        },
        "id": "xJZoLaS_GJsy",
        "outputId": "b5b815d6-60fe-4dd9-d59f-96e5754e7a06"
      },
      "source": [
        "for i in top_ten_2020.index:\n",
        "  df_lastyear[i] = np.zeros(df_lastyear.shape[0])\n",
        "df_lastyear['tagslist2'] = df_lastyear['tagslist2'].apply(cleaner)\n",
        "for i in top_ten_2020.index:\n",
        "  for j, n in enumerate(df_lastyear['tagslist2']):  \n",
        "    df_lastyear[i][j] = 0\n",
        "    if i in n:\n",
        "      #print('YES')\n",
        "      df_lastyear[i][j] = 1\n",
        "df_lastyear.head()"
      ],
      "execution_count": 93,
      "outputs": [
        {
          "output_type": "stream",
          "name": "stderr",
          "text": [
            "/usr/local/lib/python3.7/dist-packages/ipykernel_launcher.py:6: SettingWithCopyWarning: \n",
            "A value is trying to be set on a copy of a slice from a DataFrame\n",
            "\n",
            "See the caveats in the documentation: https://pandas.pydata.org/pandas-docs/stable/user_guide/indexing.html#returning-a-view-versus-a-copy\n",
            "  \n",
            "/usr/local/lib/python3.7/dist-packages/ipykernel_launcher.py:9: SettingWithCopyWarning: \n",
            "A value is trying to be set on a copy of a slice from a DataFrame\n",
            "\n",
            "See the caveats in the documentation: https://pandas.pydata.org/pandas-docs/stable/user_guide/indexing.html#returning-a-view-versus-a-copy\n",
            "  if __name__ == '__main__':\n"
          ]
        }
      ]
    },
    {
      "cell_type": "code",
      "metadata": {
        "colab": {
          "base_uri": "https://localhost:8080/",
          "height": 281
        },
        "id": "0HEzK7ceGmsK",
        "outputId": "d83289de-f5c3-4c45-cd88-5fcb06b3de55"
      },
      "source": [
        "X = df_lastyear[df_lastyear['change my mind'] > 0].groupby(df_lastyear['withinayear'])['change my mind'].count().index\n",
        "Y = df_lastyear[df_lastyear['change my mind'] > 0].groupby(df_lastyear['withinayear'])['change my mind'].count().values\n",
        "fig, ax = plt.subplots()\n",
        "ax.bar(X,Y,color=\"#88aacc\")\n",
        "#plt.legend('')\n",
        "plt.title('Количество вхождений мема change my mind n месяцев назад')\n",
        "fig.show()\n",
        "plt.savefig('change_my_mind_data')"
      ],
      "execution_count": 107,
      "outputs": [
        {
          "output_type": "display_data",
          "data": {
            "image/png": "[encoded data removed]",
            "text/plain": [
              "<Figure size 432x288 with 1 Axes>"
            ]
          },
          "metadata": {
            "needs_background": "light"
          }
        }
      ]
    },
    {
      "cell_type": "code",
      "metadata": {
        "colab": {
          "base_uri": "https://localhost:8080/",
          "height": 281
        },
        "id": "HNwPAm16JhOb",
        "outputId": "fa9b3962-6ce4-4db1-f4b4-617378790f7c"
      },
      "source": [
        "X = df_lastyear[df_lastyear['drake hotline bling'] > 0].groupby(df_lastyear['withinayear'])['drake hotline bling'].count().index\n",
        "Y = df_lastyear[df_lastyear['drake hotline bling'] > 0].groupby(df_lastyear['withinayear'])['drake hotline bling'].count().values\n",
        "fig, ax = plt.subplots()\n",
        "ax.bar(X,Y,color=\"#008080\")\n",
        "#plt.legend('')\n",
        "plt.title('Количество вхождений мема drake hotline bling n месяцев назад')\n",
        "fig.show()\n",
        "plt.savefig('drake hotline bling_data')"
      ],
      "execution_count": 108,
      "outputs": [
        {
          "output_type": "display_data",
          "data": {
            "image/png": "[encoded data removed]",
            "text/plain": [
              "<Figure size 432x288 with 1 Axes>"
            ]
          },
          "metadata": {
            "needs_background": "light"
          }
        }
      ]
    },
    {
      "cell_type": "code",
      "metadata": {
        "colab": {
          "base_uri": "https://localhost:8080/",
          "height": 281
        },
        "id": "i2fJGt5wKcMm",
        "outputId": "853fe2bc-f304-48f0-984b-8108b2364b15"
      },
      "source": [
        "X = df_lastyear[df_lastyear['boardroom meeting suggestion'] > 0].groupby(df_lastyear['withinayear'])['boardroom meeting suggestion'].count().index\n",
        "Y = df_lastyear[df_lastyear['boardroom meeting suggestion'] > 0].groupby(df_lastyear['withinayear'])['boardroom meeting suggestion'].count().values\n",
        "fig, ax = plt.subplots()\n",
        "ax.bar(X,Y,color=\"#800020\")\n",
        "#plt.legend('')\n",
        "plt.title('Количество вхождений мема boardroom meeting suggestion n месяцев назад')\n",
        "fig.show()\n",
        "plt.savefig('boardroom meeting suggestion_data')"
      ],
      "execution_count": 184,
      "outputs": [
        {
          "output_type": "display_data",
          "data": {
            "image/png": "[encoded data removed]",
            "text/plain": [
              "<Figure size 432x288 with 1 Axes>"
            ]
          },
          "metadata": {
            "needs_background": "light"
          }
        }
      ]
    },
    {
      "cell_type": "code",
      "metadata": {
        "colab": {
          "base_uri": "https://localhost:8080/"
        },
        "id": "Shh8OTD0QNCe",
        "outputId": "8c407921-7fd9-41a9-d5ab-099b39238cb1"
      },
      "source": [
        "texts_2020 = df_lastyear['imgtext'].dropna().values\n",
        "texts_2020"
      ],
      "execution_count": 111,
      "outputs": [
        {
          "output_type": "execute_result",
          "data": {
            "text/plain": [
              "array(['  MY NEPHEW TOLD ME THAT WHEN HE GROWS UP HE WANTS TO BE JUST LIKE BATMAN. SO I KILLED HIS PARENTS ',\n",
              "       '  MAKE A REALLY COOL MEME. IT GETS THOUSANDS OF UPVOTES ON REDDIT. A LOT OF YOUTUBERS PUT IT IN THEIR VIDEO. YOU MADE IT IN AUSTRALIA ',\n",
              "       '  I TOLD MY DAD I HAD THE BODY OF A GREEK GOD. HE TOLD ME BUDDHA WASN’T GREEK ',\n",
              "       ...,\n",
              "       '  I LIKE THE FACT THE WORLD KNOWS I HAVE A RESTING BITCH FACE. DAMN IT ',\n",
              "       \"  JEFFREY EPSTEIN DIDN'T KILL HIMSELF. BUT GOODYEAR DID \",\n",
              "       \"  WHO ARE YOU? I'M WOKEMAN \"], dtype=object)"
            ]
          },
          "metadata": {},
          "execution_count": 111
        }
      ]
    },
    {
      "cell_type": "code",
      "metadata": {
        "id": "aJqG-aiUU1qd"
      },
      "source": [
        "def lemmatokens(sentence):\n",
        "  sentence1 = []\n",
        "  sentence = sentence.lower()\n",
        "  sentence = re.sub('[^A-Za-z ]','', sentence)\n",
        "  #print(sentence)\n",
        "  sentence = sentence.split(' ')\n",
        "  for i, element in enumerate(sentence):\n",
        "    if len(element)>=1:\n",
        "      element = morph.parse(element)[0].normal_form\n",
        "      if element not in stop_words:\n",
        "        sentence1.append(element)\n",
        "  sentence1 = ' '.join(sentence1)\n",
        "  return sentence1"
      ],
      "execution_count": 158,
      "outputs": []
    },
    {
      "cell_type": "code",
      "metadata": {
        "id": "dtRZCN24Qq1d"
      },
      "source": [
        "def freqwords(texts):\n",
        "  freq = {}\n",
        "  for tag in texts:\n",
        "    tag = lemmatokens(tag)\n",
        "    if len(tag)>0:\n",
        "      tag = tag.split()\n",
        "      for t in tag:\n",
        "          if t in freq:\n",
        "            freq[t] += 1\n",
        "          else:\n",
        "            freq[t] = 1\n",
        "  freqdata = pd.DataFrame.from_dict(freq, orient='index')\n",
        "  return freqdata"
      ],
      "execution_count": 135,
      "outputs": []
    },
    {
      "cell_type": "code",
      "metadata": {
        "id": "XVMCnXtFQ6TU"
      },
      "source": [
        "fworddata2020 = freqwords(texts_2020)"
      ],
      "execution_count": 182,
      "outputs": []
    },
    {
      "cell_type": "code",
      "metadata": {
        "id": "KbdvbAyLaW94"
      },
      "source": [
        "stop_words"
      ],
      "execution_count": null,
      "outputs": []
    },
    {
      "cell_type": "code",
      "metadata": {
        "colab": {
          "base_uri": "https://localhost:8080/",
          "height": 359
        },
        "id": "rrW8LqKeXlwz",
        "outputId": "a31b0539-041e-4470-a5de-66bcf63801ad"
      },
      "source": [
        "fworddata2020.sort_values(by=0, ascending=False)[:10]"
      ],
      "execution_count": 183,
      "outputs": [
        {
          "output_type": "execute_result",
          "data": {
            "text/html": [
              "<div>\n",
              "<style scoped>\n",
              "    .dataframe tbody tr th:only-of-type {\n",
              "        vertical-align: middle;\n",
              "    }\n",
              "\n",
              "    .dataframe tbody tr th {\n",
              "        vertical-align: top;\n",
              "    }\n",
              "\n",
              "    .dataframe thead th {\n",
              "        text-align: right;\n",
              "    }\n",
              "</style>\n",
              "<table border=\"1\" class=\"dataframe\">\n",
              "  <thead>\n",
              "    <tr style=\"text-align: right;\">\n",
              "      <th></th>\n",
              "      <th>0</th>\n",
              "    </tr>\n",
              "  </thead>\n",
              "  <tbody>\n",
              "    <tr>\n",
              "      <th>one</th>\n",
              "      <td>160</td>\n",
              "    </tr>\n",
              "    <tr>\n",
              "      <th>upvote</th>\n",
              "      <td>128</td>\n",
              "    </tr>\n",
              "    <tr>\n",
              "      <th>like</th>\n",
              "      <td>127</td>\n",
              "    </tr>\n",
              "    <tr>\n",
              "      <th>school</th>\n",
              "      <td>106</td>\n",
              "    </tr>\n",
              "    <tr>\n",
              "      <th>go</th>\n",
              "      <td>101</td>\n",
              "    </tr>\n",
              "    <tr>\n",
              "      <th>good</th>\n",
              "      <td>96</td>\n",
              "    </tr>\n",
              "    <tr>\n",
              "      <th>upvotes</th>\n",
              "      <td>92</td>\n",
              "    </tr>\n",
              "    <tr>\n",
              "      <th>coronavirus</th>\n",
              "      <td>91</td>\n",
              "    </tr>\n",
              "    <tr>\n",
              "      <th>everyone</th>\n",
              "      <td>84</td>\n",
              "    </tr>\n",
              "    <tr>\n",
              "      <th>new</th>\n",
              "      <td>83</td>\n",
              "    </tr>\n",
              "  </tbody>\n",
              "</table>\n",
              "</div>"
            ],
            "text/plain": [
              "               0\n",
              "one          160\n",
              "upvote       128\n",
              "like         127\n",
              "school       106\n",
              "go           101\n",
              "good          96\n",
              "upvotes       92\n",
              "coronavirus   91\n",
              "everyone      84\n",
              "new           83"
            ]
          },
          "metadata": {},
          "execution_count": 183
        }
      ]
    },
    {
      "cell_type": "code",
      "metadata": {
        "id": "QZZVo0VVa_Ge"
      },
      "source": [
        "def coronapatrol(name):\n",
        "  j = 0\n",
        "  if 'coronavirus' in str(name):\n",
        "    j = 1\n",
        "  return j"
      ],
      "execution_count": 164,
      "outputs": []
    },
    {
      "cell_type": "code",
      "metadata": {
        "id": "7ff2rNM8bOXX"
      },
      "source": [
        "df_lastyear['covid'] = df_lastyear['imgtext'].apply(coronapatrol)"
      ],
      "execution_count": 165,
      "outputs": []
    },
    {
      "cell_type": "code",
      "metadata": {
        "colab": {
          "base_uri": "https://localhost:8080/",
          "height": 281
        },
        "id": "UeMXlPKkbhNl",
        "outputId": "0acb36fa-093b-4af8-9f49-7dfbd3baca1c"
      },
      "source": [
        "X = df_lastyear[df_lastyear['covid'] > 0].groupby(df_lastyear['withinayear'])['covid'].count().index\n",
        "Y = df_lastyear[df_lastyear['covid'] > 0].groupby(df_lastyear['withinayear'])['covid'].count().values\n",
        "fig, ax = plt.subplots()\n",
        "ax.bar(X,Y,color=\"#800020\")\n",
        "#plt.legend('')\n",
        "plt.title('Количество мемов про ковид n месяцев назад')\n",
        "fig.show()\n",
        "plt.savefig('covid_data')"
      ],
      "execution_count": 179,
      "outputs": [
        {
          "output_type": "display_data",
          "data": {
            "image/png": "[encoded data removed]",
            "text/plain": [
              "<Figure size 432x288 with 1 Axes>"
            ]
          },
          "metadata": {
            "needs_background": "light"
          }
        }
      ]
    },
    {
      "cell_type": "code",
      "metadata": {
        "id": "cBea0krJfeyE"
      },
      "source": [
        "texts = df_light['imgtext'].dropna().values"
      ],
      "execution_count": 145,
      "outputs": []
    },
    {
      "cell_type": "code",
      "metadata": {
        "id": "crfD7gbr5wSX"
      },
      "source": [
        "df_analysis = df_light[['ID',\t'memedate',\t'imgname',\t'imgtext',\t'tagslist2']]\n",
        "for i in top_ten.index:\n",
        "  df_analysis[i] = np.zeros(df_analysis.shape[0])\n",
        "df_analysis['tagslist2'] = df_analysis['tagslist2'].apply(cleaner)\n",
        "for i in top_ten.index:\n",
        "  for j, n in enumerate(df_analysis['tagslist2']):  \n",
        "    df_analysis[i][j] = 0\n",
        "    if i in n:\n",
        "      #print('YES')\n",
        "      df_analysis[i][j] = 1"
      ],
      "execution_count": null,
      "outputs": []
    },
    {
      "cell_type": "code",
      "metadata": {
        "colab": {
          "base_uri": "https://localhost:8080/",
          "height": 615
        },
        "id": "s6ndUGQ07eS-",
        "outputId": "d9115acf-568d-448e-bfbc-fc4774118c4b"
      },
      "source": [
        "df_analysis.head()"
      ],
      "execution_count": 83,
      "outputs": [
        {
          "output_type": "execute_result",
          "data": {
            "text/html": [
              "<div>\n",
              "<style scoped>\n",
              "    .dataframe tbody tr th:only-of-type {\n",
              "        vertical-align: middle;\n",
              "    }\n",
              "\n",
              "    .dataframe tbody tr th {\n",
              "        vertical-align: top;\n",
              "    }\n",
              "\n",
              "    .dataframe thead th {\n",
              "        text-align: right;\n",
              "    }\n",
              "</style>\n",
              "<table border=\"1\" class=\"dataframe\">\n",
              "  <thead>\n",
              "    <tr style=\"text-align: right;\">\n",
              "      <th></th>\n",
              "      <th>ID</th>\n",
              "      <th>memedate</th>\n",
              "      <th>imgname</th>\n",
              "      <th>imgtext</th>\n",
              "      <th>tagslist2</th>\n",
              "      <th>boardroom meeting suggestion</th>\n",
              "      <th>change my mind</th>\n",
              "      <th>the rock driving</th>\n",
              "      <th>batman slapping robin</th>\n",
              "      <th>two buttons</th>\n",
              "      <th>drake hotline bling</th>\n",
              "      <th>hide the pain harold</th>\n",
              "      <th>expanding brain</th>\n",
              "      <th>one does not simply</th>\n",
              "      <th>surprised pikachu</th>\n",
              "    </tr>\n",
              "  </thead>\n",
              "  <tbody>\n",
              "    <tr>\n",
              "      <th>0</th>\n",
              "      <td>10769j</td>\n",
              "      <td>5 years ago</td>\n",
              "      <td>Hide the Pain Harold Meme</td>\n",
              "      <td>OOOH, A COMMENT ON MY MEME. IT'S A PICTURE O...</td>\n",
              "      <td>[hide the pain harold]</td>\n",
              "      <td>0.0</td>\n",
              "      <td>0.0</td>\n",
              "      <td>0.0</td>\n",
              "      <td>0.0</td>\n",
              "      <td>0.0</td>\n",
              "      <td>0.0</td>\n",
              "      <td>1.0</td>\n",
              "      <td>0.0</td>\n",
              "      <td>0.0</td>\n",
              "      <td>0.0</td>\n",
              "    </tr>\n",
              "    <tr>\n",
              "      <th>1</th>\n",
              "      <td>10e3sj</td>\n",
              "      <td>5 years ago</td>\n",
              "      <td>One Does Not Simply Meme</td>\n",
              "      <td>ONE DOES NOT SIMPLY. RESIST BACON</td>\n",
              "      <td>[one does not simply]</td>\n",
              "      <td>0.0</td>\n",
              "      <td>0.0</td>\n",
              "      <td>0.0</td>\n",
              "      <td>0.0</td>\n",
              "      <td>0.0</td>\n",
              "      <td>0.0</td>\n",
              "      <td>0.0</td>\n",
              "      <td>0.0</td>\n",
              "      <td>1.0</td>\n",
              "      <td>0.0</td>\n",
              "    </tr>\n",
              "    <tr>\n",
              "      <th>2</th>\n",
              "      <td>115m4j</td>\n",
              "      <td>no date</td>\n",
              "      <td>Batman Slapping Robin Meme</td>\n",
              "      <td>DON'T GIVE ME THE SILENT TREATMENT!</td>\n",
              "      <td>[batman slapping robin]</td>\n",
              "      <td>0.0</td>\n",
              "      <td>0.0</td>\n",
              "      <td>0.0</td>\n",
              "      <td>1.0</td>\n",
              "      <td>0.0</td>\n",
              "      <td>0.0</td>\n",
              "      <td>0.0</td>\n",
              "      <td>0.0</td>\n",
              "      <td>0.0</td>\n",
              "      <td>0.0</td>\n",
              "    </tr>\n",
              "    <tr>\n",
              "      <th>3</th>\n",
              "      <td>11qu1m</td>\n",
              "      <td>5 years ago</td>\n",
              "      <td>The Rock Driving Meme</td>\n",
              "      <td>YA KNOW WHAT, YOU NEED TO THINK OUTSIDE THE ...</td>\n",
              "      <td>[the rock driving]</td>\n",
              "      <td>0.0</td>\n",
              "      <td>0.0</td>\n",
              "      <td>1.0</td>\n",
              "      <td>0.0</td>\n",
              "      <td>0.0</td>\n",
              "      <td>0.0</td>\n",
              "      <td>0.0</td>\n",
              "      <td>0.0</td>\n",
              "      <td>0.0</td>\n",
              "      <td>0.0</td>\n",
              "    </tr>\n",
              "    <tr>\n",
              "      <th>4</th>\n",
              "      <td>11v8a</td>\n",
              "      <td>8 years ago</td>\n",
              "      <td>One Does Not Simply Meme</td>\n",
              "      <td>ONE DOES NOT SIMPLY STAY AWAKE IN CLASS</td>\n",
              "      <td>[one does not simply]</td>\n",
              "      <td>0.0</td>\n",
              "      <td>0.0</td>\n",
              "      <td>0.0</td>\n",
              "      <td>0.0</td>\n",
              "      <td>0.0</td>\n",
              "      <td>0.0</td>\n",
              "      <td>0.0</td>\n",
              "      <td>0.0</td>\n",
              "      <td>1.0</td>\n",
              "      <td>0.0</td>\n",
              "    </tr>\n",
              "  </tbody>\n",
              "</table>\n",
              "</div>"
            ],
            "text/plain": [
              "       ID     memedate  ... one does not simply surprised pikachu\n",
              "0  10769j  5 years ago  ...                 0.0               0.0\n",
              "1  10e3sj  5 years ago  ...                 1.0               0.0\n",
              "2  115m4j      no date  ...                 0.0               0.0\n",
              "3  11qu1m  5 years ago  ...                 0.0               0.0\n",
              "4   11v8a  8 years ago  ...                 1.0               0.0\n",
              "\n",
              "[5 rows x 15 columns]"
            ]
          },
          "metadata": {},
          "execution_count": 83
        }
      ]
    }
  ]
}